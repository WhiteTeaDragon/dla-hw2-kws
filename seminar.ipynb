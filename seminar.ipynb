{
  "nbformat": 4,
  "nbformat_minor": 0,
  "metadata": {
    "accelerator": "GPU",
    "colab": {
      "name": "seminar.ipynb",
      "provenance": [],
      "collapsed_sections": [
        "_lhrn5O-qUYZ",
        "812GwLfqqUYf",
        "KA1gPmE1h9pI",
        "LUxfDJw1qUYi",
        "RXUBfobMf1PG",
        "e8G9xPRVqUYk",
        "kTlsn6cpqUYk",
        "zoAxmihY8yxr",
        "CcEP5cEZqUYl",
        "GSNW-nZCJ4Q0",
        "w_eJqievlf28",
        "UXAsyWk22gn-",
        "X4cqaOdhc3pz"
      ],
      "include_colab_link": true
    },
    "kernelspec": {
      "display_name": "Python 3 (ipykernel)",
      "language": "python",
      "name": "python3"
    },
    "language_info": {
      "codemirror_mode": {
        "name": "ipython",
        "version": 3
      },
      "file_extension": ".py",
      "mimetype": "text/x-python",
      "name": "python",
      "nbconvert_exporter": "python",
      "pygments_lexer": "ipython3",
      "version": "3.8.12"
    }
  },
  "cells": [
    {
      "cell_type": "markdown",
      "metadata": {
        "id": "view-in-github",
        "colab_type": "text"
      },
      "source": [
        "<a href=\"https://colab.research.google.com/github/WhiteTeaDragon/dla-hw2-kws/blob/main/seminar.ipynb\" target=\"_parent\"><img src=\"https://colab.research.google.com/assets/colab-badge.svg\" alt=\"Open In Colab\"/></a>"
      ]
    },
    {
      "cell_type": "markdown",
      "metadata": {
        "id": "_lhrn5O-qUYZ"
      },
      "source": [
        "# Import and misc"
      ]
    },
    {
      "cell_type": "code",
      "metadata": {
        "colab": {
          "base_uri": "https://localhost:8080/"
        },
        "id": "meO-Mp9jiAFC",
        "outputId": "2242d6cc-7492-47b0-a25e-87f3aee4d55f"
      },
      "source": [
        "!pip install torchaudio==0.9.1"
      ],
      "execution_count": null,
      "outputs": [
        {
          "output_type": "stream",
          "name": "stdout",
          "text": [
            "Collecting torchaudio==0.9.1\n",
            "  Downloading torchaudio-0.9.1-cp37-cp37m-manylinux1_x86_64.whl (1.9 MB)\n",
            "\u001b[K     |████████████████████████████████| 1.9 MB 6.0 MB/s \n",
            "\u001b[?25hCollecting torch==1.9.1\n",
            "  Downloading torch-1.9.1-cp37-cp37m-manylinux1_x86_64.whl (831.4 MB)\n",
            "\u001b[K     |████████████████████████████████| 831.4 MB 7.0 kB/s \n",
            "\u001b[?25hRequirement already satisfied: typing-extensions in /usr/local/lib/python3.7/dist-packages (from torch==1.9.1->torchaudio==0.9.1) (3.10.0.2)\n",
            "Installing collected packages: torch, torchaudio\n",
            "  Attempting uninstall: torch\n",
            "    Found existing installation: torch 1.10.0+cu111\n",
            "    Uninstalling torch-1.10.0+cu111:\n",
            "      Successfully uninstalled torch-1.10.0+cu111\n",
            "  Attempting uninstall: torchaudio\n",
            "    Found existing installation: torchaudio 0.10.0+cu111\n",
            "    Uninstalling torchaudio-0.10.0+cu111:\n",
            "      Successfully uninstalled torchaudio-0.10.0+cu111\n",
            "\u001b[31mERROR: pip's dependency resolver does not currently take into account all the packages that are installed. This behaviour is the source of the following dependency conflicts.\n",
            "torchvision 0.11.1+cu111 requires torch==1.10.0, but you have torch 1.9.1 which is incompatible.\n",
            "torchtext 0.11.0 requires torch==1.10.0, but you have torch 1.9.1 which is incompatible.\u001b[0m\n",
            "Successfully installed torch-1.9.1 torchaudio-0.9.1\n"
          ]
        }
      ]
    },
    {
      "cell_type": "code",
      "metadata": {
        "id": "bbUpoArCqUYa"
      },
      "source": [
        "from typing import Tuple, Union, List, Callable, Optional\n",
        "from tqdm import tqdm\n",
        "from itertools import islice\n",
        "import pathlib\n",
        "import dataclasses\n",
        "\n",
        "import numpy as np\n",
        "import pandas as pd\n",
        "\n",
        "import torch\n",
        "import torch.nn.functional as F\n",
        "from torch import nn\n",
        "from torch import distributions\n",
        "from torch.utils.data import DataLoader, Dataset, WeightedRandomSampler\n",
        "from torch.nn.utils.rnn import pad_sequence\n",
        "\n",
        "import torchaudio\n",
        "from IPython import display as display_"
      ],
      "execution_count": null,
      "outputs": []
    },
    {
      "cell_type": "markdown",
      "metadata": {
        "id": "812GwLfqqUYf"
      },
      "source": [
        "# Task"
      ]
    },
    {
      "cell_type": "markdown",
      "metadata": {
        "id": "i1DuQIyRqUYf"
      },
      "source": [
        "In this notebook we will implement a model for finding a keyword in a stream.\n",
        "\n",
        "We will implement the version with CRNN because it is easy and improves the model. \n",
        "(from https://www.dropbox.com/s/22ah2ba7dug6pzw/KWS_Attention.pdf)"
      ]
    },
    {
      "cell_type": "code",
      "metadata": {
        "id": "8PdhApeEh9pH"
      },
      "source": [
        "@dataclasses.dataclass\n",
        "class TaskConfig:\n",
        "    keyword: str = 'sheila'  # We will use 1 key word -- 'sheila'\n",
        "    batch_size: int = 128\n",
        "    learning_rate: float = 3e-4\n",
        "    weight_decay: float = 1e-5\n",
        "    num_epochs: int = 20\n",
        "    n_mels: int = 40\n",
        "    cnn_out_channels: int = 8\n",
        "    kernel_size: Tuple[int, int] = (5, 20)\n",
        "    stride: Tuple[int, int] = (2, 8)\n",
        "    hidden_size: int = 64\n",
        "    gru_num_layers: int = 2\n",
        "    dropout: float = 0.1\n",
        "    bidirectional: bool = False\n",
        "    num_classes: int = 2\n",
        "    sample_rate: int = 16000\n",
        "    device: torch.device = torch.device(\n",
        "        'cuda:0' if torch.cuda.is_available() else 'cpu')"
      ],
      "execution_count": null,
      "outputs": []
    },
    {
      "cell_type": "markdown",
      "metadata": {
        "id": "KA1gPmE1h9pI"
      },
      "source": [
        "# Data"
      ]
    },
    {
      "cell_type": "code",
      "metadata": {
        "id": "Y2N8zcx9MF1X",
        "colab": {
          "base_uri": "https://localhost:8080/"
        },
        "outputId": "df9175c1-02ae-41b4-97fa-6eb338a66276"
      },
      "source": [
        "!wget http://download.tensorflow.org/data/speech_commands_v0.01.tar.gz -O speech_commands_v0.01.tar.gz\n",
        "!mkdir speech_commands && tar -C speech_commands -xvzf speech_commands_v0.01.tar.gz 1> log"
      ],
      "execution_count": null,
      "outputs": [
        {
          "output_type": "stream",
          "name": "stdout",
          "text": [
            "--2021-11-21 19:39:45--  http://download.tensorflow.org/data/speech_commands_v0.01.tar.gz\n",
            "Resolving download.tensorflow.org (download.tensorflow.org)... 74.125.202.128, 2607:f8b0:4001:c03::80\n",
            "Connecting to download.tensorflow.org (download.tensorflow.org)|74.125.202.128|:80... connected.\n",
            "HTTP request sent, awaiting response... 200 OK\n",
            "Length: 1489096277 (1.4G) [application/gzip]\n",
            "Saving to: ‘speech_commands_v0.01.tar.gz’\n",
            "\n",
            "speech_commands_v0. 100%[===================>]   1.39G  34.0MB/s    in 15s     \n",
            "\n",
            "2021-11-21 19:40:01 (92.7 MB/s) - ‘speech_commands_v0.01.tar.gz’ saved [1489096277/1489096277]\n",
            "\n"
          ]
        }
      ]
    },
    {
      "cell_type": "code",
      "metadata": {
        "id": "12wBTK0mNUsG"
      },
      "source": [
        "class SpeechCommandDataset(Dataset):\n",
        "\n",
        "    def __init__(\n",
        "        self,\n",
        "        transform: Optional[Callable] = None,\n",
        "        path2dir: str = None,\n",
        "        keywords: Union[str, List[str]] = None,\n",
        "        csv: Optional[pd.DataFrame] = None\n",
        "    ):        \n",
        "        self.transform = transform\n",
        "\n",
        "        if csv is None:\n",
        "            path2dir = pathlib.Path(path2dir)\n",
        "            keywords = keywords if isinstance(keywords, list) else [keywords]\n",
        "            \n",
        "            all_keywords = [\n",
        "                p.stem for p in path2dir.glob('*')\n",
        "                if p.is_dir() and not p.stem.startswith('_')\n",
        "            ]\n",
        "\n",
        "            triplets = []\n",
        "            for keyword in all_keywords:\n",
        "                paths = (path2dir / keyword).rglob('*.wav')\n",
        "                if keyword in keywords:\n",
        "                    for path2wav in paths:\n",
        "                        triplets.append((path2wav.as_posix(), keyword, 1))\n",
        "                else:\n",
        "                    for path2wav in paths:\n",
        "                        triplets.append((path2wav.as_posix(), keyword, 0))\n",
        "            \n",
        "            self.csv = pd.DataFrame(\n",
        "                triplets,\n",
        "                columns=['path', 'keyword', 'label']\n",
        "            )\n",
        "\n",
        "        else:\n",
        "            self.csv = csv\n",
        "    \n",
        "    def __getitem__(self, index: int):\n",
        "        instance = self.csv.iloc[index]\n",
        "\n",
        "        path2wav = instance['path']\n",
        "        wav, sr = torchaudio.load(path2wav)\n",
        "        wav = wav.sum(dim=0)\n",
        "        \n",
        "        if self.transform:\n",
        "            wav = self.transform(wav)\n",
        "\n",
        "        return {\n",
        "            'wav': wav,\n",
        "            'keywors': instance['keyword'],\n",
        "            'label': instance['label']\n",
        "        }\n",
        "\n",
        "    def __len__(self):\n",
        "        return len(self.csv)"
      ],
      "execution_count": null,
      "outputs": []
    },
    {
      "cell_type": "code",
      "metadata": {
        "id": "-1rVkT81Pk90"
      },
      "source": [
        "dataset = SpeechCommandDataset(\n",
        "    path2dir='speech_commands', keywords=TaskConfig.keyword\n",
        ")"
      ],
      "execution_count": null,
      "outputs": []
    },
    {
      "cell_type": "code",
      "metadata": {
        "colab": {
          "base_uri": "https://localhost:8080/"
        },
        "id": "DFwhAXdfQLIA",
        "outputId": "cadfb70b-2994-420d-d1ce-7dfff1830110"
      },
      "source": [
        "dataset.csv.sample(5)"
      ],
      "execution_count": null,
      "outputs": [
        {
          "output_type": "execute_result",
          "data": {
            "text/html": [
              "<div>\n",
              "<style scoped>\n",
              "    .dataframe tbody tr th:only-of-type {\n",
              "        vertical-align: middle;\n",
              "    }\n",
              "\n",
              "    .dataframe tbody tr th {\n",
              "        vertical-align: top;\n",
              "    }\n",
              "\n",
              "    .dataframe thead th {\n",
              "        text-align: right;\n",
              "    }\n",
              "</style>\n",
              "<table border=\"1\" class=\"dataframe\">\n",
              "  <thead>\n",
              "    <tr style=\"text-align: right;\">\n",
              "      <th></th>\n",
              "      <th>path</th>\n",
              "      <th>keyword</th>\n",
              "      <th>label</th>\n",
              "    </tr>\n",
              "  </thead>\n",
              "  <tbody>\n",
              "    <tr>\n",
              "      <th>6139</th>\n",
              "      <td>speech_commands/five/b00dff7e_nohash_1.wav</td>\n",
              "      <td>five</td>\n",
              "      <td>0</td>\n",
              "    </tr>\n",
              "    <tr>\n",
              "      <th>37714</th>\n",
              "      <td>speech_commands/zero/cee22275_nohash_1.wav</td>\n",
              "      <td>zero</td>\n",
              "      <td>0</td>\n",
              "    </tr>\n",
              "    <tr>\n",
              "      <th>382</th>\n",
              "      <td>speech_commands/no/c0445658_nohash_1.wav</td>\n",
              "      <td>no</td>\n",
              "      <td>0</td>\n",
              "    </tr>\n",
              "    <tr>\n",
              "      <th>57167</th>\n",
              "      <td>speech_commands/off/789e4ee7_nohash_0.wav</td>\n",
              "      <td>off</td>\n",
              "      <td>0</td>\n",
              "    </tr>\n",
              "    <tr>\n",
              "      <th>23365</th>\n",
              "      <td>speech_commands/on/919d3c0e_nohash_0.wav</td>\n",
              "      <td>on</td>\n",
              "      <td>0</td>\n",
              "    </tr>\n",
              "  </tbody>\n",
              "</table>\n",
              "</div>"
            ],
            "text/plain": [
              "                                             path keyword  label\n",
              "6139   speech_commands/five/b00dff7e_nohash_1.wav    five      0\n",
              "37714  speech_commands/zero/cee22275_nohash_1.wav    zero      0\n",
              "382      speech_commands/no/c0445658_nohash_1.wav      no      0\n",
              "57167   speech_commands/off/789e4ee7_nohash_0.wav     off      0\n",
              "23365    speech_commands/on/919d3c0e_nohash_0.wav      on      0"
            ]
          },
          "metadata": {},
          "execution_count": 7
        }
      ]
    },
    {
      "cell_type": "markdown",
      "metadata": {
        "id": "LUxfDJw1qUYi"
      },
      "source": [
        "### Augmentations"
      ]
    },
    {
      "cell_type": "code",
      "metadata": {
        "id": "dkmkxPWQqUYe"
      },
      "source": [
        "class AugsCreation:\n",
        "\n",
        "    def __init__(self):\n",
        "        self.background_noises = [\n",
        "            'speech_commands/_background_noise_/white_noise.wav',\n",
        "            'speech_commands/_background_noise_/dude_miaowing.wav',\n",
        "            'speech_commands/_background_noise_/doing_the_dishes.wav',\n",
        "            'speech_commands/_background_noise_/exercise_bike.wav',\n",
        "            'speech_commands/_background_noise_/pink_noise.wav',\n",
        "            'speech_commands/_background_noise_/running_tap.wav'\n",
        "        ]\n",
        "\n",
        "        self.noises = [\n",
        "            torchaudio.load(p)[0].squeeze()\n",
        "            for p in self.background_noises\n",
        "        ]\n",
        "\n",
        "    def add_rand_noise(self, audio):\n",
        "\n",
        "        # randomly choose noise\n",
        "        noise_num = torch.randint(low=0, high=len(\n",
        "            self.background_noises), size=(1,)).item()\n",
        "        noise = self.noises[noise_num]\n",
        "\n",
        "        noise_level = torch.Tensor([1])  # [0, 40]\n",
        "\n",
        "        noise_energy = torch.norm(noise)\n",
        "        audio_energy = torch.norm(audio)\n",
        "        alpha = (audio_energy / noise_energy) * \\\n",
        "            torch.pow(10, -noise_level / 20)\n",
        "\n",
        "        start = torch.randint(\n",
        "            low=0,\n",
        "            high=max(int(noise.size(0) - audio.size(0) - 1), 1),\n",
        "            size=(1,)\n",
        "        ).item()\n",
        "        noise_sample = noise[start: start + audio.size(0)]\n",
        "\n",
        "        audio_new = audio + alpha * noise_sample\n",
        "        audio_new.clamp_(-1, 1)\n",
        "        return audio_new\n",
        "\n",
        "    def __call__(self, wav):\n",
        "        aug_num = torch.randint(low=0, high=4, size=(1,)).item()   # choose 1 random aug from augs\n",
        "        augs = [\n",
        "            lambda x: x,\n",
        "            lambda x: (x + distributions.Normal(0, 0.01).sample(x.size())).clamp_(-1, 1),\n",
        "            lambda x: torchaudio.transforms.Vol(.25)(x),\n",
        "            lambda x: self.add_rand_noise(x)\n",
        "        ]\n",
        "\n",
        "        return augs[aug_num](wav)"
      ],
      "execution_count": null,
      "outputs": []
    },
    {
      "cell_type": "markdown",
      "metadata": {
        "id": "RXUBfobMf1PG"
      },
      "source": [
        "### Creating Fixed Split"
      ]
    },
    {
      "cell_type": "code",
      "metadata": {
        "id": "8BaMdhI6o_pT"
      },
      "source": [
        "indexes = torch.randperm(len(dataset))\n",
        "torch.save(indexes, \"split_indexes.pt\")"
      ],
      "execution_count": null,
      "outputs": []
    },
    {
      "cell_type": "markdown",
      "metadata": {
        "id": "RFopUqkKpHOB"
      },
      "source": [
        "### Using Fixed Split"
      ]
    },
    {
      "cell_type": "code",
      "metadata": {
        "colab": {
          "base_uri": "https://localhost:8080/"
        },
        "id": "bMRruh5KpLZ3",
        "outputId": "1a3992c9-03ab-4a97-e776-ce355166829a"
      },
      "source": [
        "import gdown\n",
        "url = \"https://drive.google.com/uc?id=1leEkCji437BPCRR2-fl5tk8bsl0JbJQb\"\n",
        "file = \"/content/split_indexes.pt\"\n",
        "gdown.download(url, file, quiet=False)\n",
        "indexes = torch.load(file)"
      ],
      "execution_count": null,
      "outputs": [
        {
          "output_type": "stream",
          "name": "stderr",
          "text": [
            "Downloading...\n",
            "From: https://drive.google.com/uc?id=1leEkCji437BPCRR2-fl5tk8bsl0JbJQb\n",
            "To: /content/split_indexes.pt\n",
            "100%|██████████| 519k/519k [00:00<00:00, 57.4MB/s]\n"
          ]
        }
      ]
    },
    {
      "cell_type": "code",
      "metadata": {
        "id": "ClWThxyYh9pM"
      },
      "source": [
        "train_indexes = indexes[:int(len(dataset) * 0.8)]\n",
        "val_indexes = indexes[int(len(dataset) * 0.8):]\n",
        "\n",
        "train_df = dataset.csv.iloc[train_indexes].reset_index(drop=True)\n",
        "val_df = dataset.csv.iloc[val_indexes].reset_index(drop=True)"
      ],
      "execution_count": null,
      "outputs": []
    },
    {
      "cell_type": "code",
      "metadata": {
        "id": "PDPLht5fqUYe"
      },
      "source": [
        "# Sample is a dict of utt, word and label\n",
        "train_set = SpeechCommandDataset(csv=train_df, transform=AugsCreation())\n",
        "val_set = SpeechCommandDataset(csv=val_df)"
      ],
      "execution_count": null,
      "outputs": []
    },
    {
      "cell_type": "markdown",
      "metadata": {
        "id": "2vbPDqd6qUYj"
      },
      "source": [
        "### Sampler for oversampling:"
      ]
    },
    {
      "cell_type": "code",
      "metadata": {
        "id": "rfnjRKo2qUYj"
      },
      "source": [
        "# We should provide to WeightedRandomSampler _weight for every sample_; by default it is 1/len(target)\n",
        "\n",
        "def get_sampler(target):\n",
        "    class_sample_count = np.array(\n",
        "        [len(np.where(target == t)[0]) for t in np.unique(target)])   # for every class count it's number of occ.\n",
        "    weight = 1. / class_sample_count\n",
        "    samples_weight = np.array([weight[t] for t in target])\n",
        "    samples_weight = torch.from_numpy(samples_weight)\n",
        "    samples_weigth = samples_weight.float()\n",
        "    sampler = WeightedRandomSampler(samples_weight, len(samples_weight))\n",
        "    return sampler"
      ],
      "execution_count": null,
      "outputs": []
    },
    {
      "cell_type": "code",
      "metadata": {
        "id": "UM8gLmHeqUYj"
      },
      "source": [
        "train_sampler = get_sampler(train_set.csv['label'].values)"
      ],
      "execution_count": null,
      "outputs": []
    },
    {
      "cell_type": "code",
      "metadata": {
        "id": "lyBqbxp0h9pO"
      },
      "source": [
        "class Collator:\n",
        "    \n",
        "    def __call__(self, data):\n",
        "        wavs = []\n",
        "        labels = []    \n",
        "\n",
        "        for el in data:\n",
        "            wavs.append(el['wav'])\n",
        "            labels.append(el['label'])\n",
        "\n",
        "        # torch.nn.utils.rnn.pad_sequence takes list(Tensors) and returns padded (with 0.0) Tensor\n",
        "        wavs = pad_sequence(wavs, batch_first=True)    \n",
        "        labels = torch.Tensor(labels).long()\n",
        "        return wavs, labels"
      ],
      "execution_count": null,
      "outputs": []
    },
    {
      "cell_type": "markdown",
      "metadata": {
        "id": "e8G9xPRVqUYk"
      },
      "source": [
        "###  Dataloaders"
      ]
    },
    {
      "cell_type": "code",
      "metadata": {
        "id": "6wGBMcQiqUYk"
      },
      "source": [
        "# Here we are obliged to use shuffle=False because of our sampler with randomness inside.\n",
        "\n",
        "train_loader = DataLoader(train_set, batch_size=TaskConfig.batch_size,\n",
        "                          shuffle=False, collate_fn=Collator(),\n",
        "                          sampler=train_sampler,\n",
        "                          num_workers=2, pin_memory=True)\n",
        "\n",
        "val_loader = DataLoader(val_set, batch_size=TaskConfig.batch_size,\n",
        "                        shuffle=False, collate_fn=Collator(),\n",
        "                        num_workers=2, pin_memory=True)"
      ],
      "execution_count": null,
      "outputs": []
    },
    {
      "cell_type": "markdown",
      "metadata": {
        "id": "kTlsn6cpqUYk"
      },
      "source": [
        "### Creating MelSpecs on GPU for speeeed: "
      ]
    },
    {
      "cell_type": "code",
      "metadata": {
        "id": "pRXMt6it56fW"
      },
      "source": [
        "class LogMelspec:\n",
        "\n",
        "    def __init__(self, is_train, config):\n",
        "        # with augmentations\n",
        "        if is_train:\n",
        "            self.melspec = nn.Sequential(\n",
        "                torchaudio.transforms.MelSpectrogram(\n",
        "                    sample_rate=config.sample_rate,\n",
        "                    n_fft=400,\n",
        "                    win_length=400,\n",
        "                    hop_length=160,\n",
        "                    n_mels=config.n_mels\n",
        "                ),\n",
        "                torchaudio.transforms.FrequencyMasking(freq_mask_param=15),\n",
        "                torchaudio.transforms.TimeMasking(time_mask_param=35),\n",
        "            ).to(config.device)\n",
        "\n",
        "        # no augmentations\n",
        "        else:\n",
        "            self.melspec = torchaudio.transforms.MelSpectrogram(\n",
        "                sample_rate=config.sample_rate,\n",
        "                n_fft=400,\n",
        "                win_length=400,\n",
        "                hop_length=160,\n",
        "                n_mels=config.n_mels\n",
        "            ).to(config.device)\n",
        "\n",
        "    def __call__(self, batch):\n",
        "        # already on device\n",
        "        return torch.log(self.melspec(batch).clamp_(min=1e-9, max=1e9))"
      ],
      "execution_count": null,
      "outputs": []
    },
    {
      "cell_type": "code",
      "metadata": {
        "id": "Pqkz4_gn8BiF"
      },
      "source": [
        "melspec_train = LogMelspec(is_train=True, config=TaskConfig)\n",
        "melspec_val = LogMelspec(is_train=False, config=TaskConfig)"
      ],
      "execution_count": null,
      "outputs": []
    },
    {
      "cell_type": "markdown",
      "metadata": {
        "id": "zoAxmihY8yxr"
      },
      "source": [
        "### Quality measurment functions:"
      ]
    },
    {
      "cell_type": "code",
      "metadata": {
        "id": "euwD1UyuqUYk"
      },
      "source": [
        "# FA - true: 0, model: 1\n",
        "# FR - true: 1, model: 0\n",
        "\n",
        "def count_FA_FR(preds, labels):\n",
        "    FA = torch.sum(preds[labels == 0])\n",
        "    FR = torch.sum(labels[preds == 0])\n",
        "    \n",
        "    # torch.numel - returns total number of elements in tensor\n",
        "    return FA.item() / torch.numel(preds), FR.item() / torch.numel(preds)"
      ],
      "execution_count": null,
      "outputs": []
    },
    {
      "cell_type": "code",
      "metadata": {
        "id": "YHBUrkT1qUYk"
      },
      "source": [
        "def get_au_fa_fr(probs, labels):\n",
        "    sorted_probs, _ = torch.sort(probs)\n",
        "    sorted_probs = torch.cat((torch.Tensor([0]), sorted_probs, torch.Tensor([1])))\n",
        "    labels = torch.cat(labels, dim=0)\n",
        "        \n",
        "    FAs, FRs = [], []\n",
        "    for prob in sorted_probs:\n",
        "        preds = (probs >= prob) * 1\n",
        "        FA, FR = count_FA_FR(preds, labels)        \n",
        "        FAs.append(FA)\n",
        "        FRs.append(FR)\n",
        "    # plt.plot(FAs, FRs)\n",
        "    # plt.show()\n",
        "\n",
        "    # ~ area under curve using trapezoidal rule\n",
        "    return -np.trapz(FRs, x=FAs)"
      ],
      "execution_count": null,
      "outputs": []
    },
    {
      "cell_type": "markdown",
      "metadata": {
        "id": "CcEP5cEZqUYl"
      },
      "source": [
        "# Model"
      ]
    },
    {
      "cell_type": "code",
      "metadata": {
        "id": "2cP_pFIsy5p2"
      },
      "source": [
        "class Attention(nn.Module):\n",
        "\n",
        "    def __init__(self, hidden_size: int):\n",
        "        super().__init__()\n",
        "\n",
        "        self.energy = nn.Sequential(\n",
        "            nn.Linear(hidden_size, hidden_size),\n",
        "            nn.Tanh(),\n",
        "            nn.Linear(hidden_size, 1)\n",
        "        )\n",
        "    \n",
        "    def forward(self, input):\n",
        "        energy = self.energy(input)\n",
        "        alpha = torch.softmax(energy, dim=-2)\n",
        "        return (input * alpha).sum(dim=-2)\n",
        "\n",
        "class CRNN(nn.Module):\n",
        "\n",
        "    def __init__(self, config: TaskConfig):\n",
        "        super().__init__()\n",
        "        self.config = config\n",
        "\n",
        "        self.conv = nn.Sequential(\n",
        "            nn.Conv2d(\n",
        "                in_channels=1, out_channels=config.cnn_out_channels,\n",
        "                kernel_size=config.kernel_size, stride=config.stride\n",
        "            ),\n",
        "            nn.Flatten(start_dim=1, end_dim=2),\n",
        "        )\n",
        "\n",
        "        self.conv_out_frequency = (config.n_mels - config.kernel_size[0]) // \\\n",
        "            config.stride[0] + 1\n",
        "        \n",
        "        self.gru = nn.GRU(\n",
        "            input_size=self.conv_out_frequency * config.cnn_out_channels,\n",
        "            hidden_size=config.hidden_size,\n",
        "            num_layers=config.gru_num_layers,\n",
        "            dropout=config.dropout,\n",
        "            bidirectional=config.bidirectional,\n",
        "            batch_first=True\n",
        "        )\n",
        "\n",
        "        self.attention = Attention(config.hidden_size)\n",
        "        self.classifier = nn.Linear(config.hidden_size, config.num_classes)\n",
        "    \n",
        "    def forward(self, input):\n",
        "        input = input.unsqueeze(dim=1)\n",
        "        conv_output = self.conv(input).transpose(-1, -2)\n",
        "        gru_output, _ = self.gru(conv_output)\n",
        "        contex_vector = self.attention(gru_output)\n",
        "        output = self.classifier(contex_vector)\n",
        "        return output"
      ],
      "execution_count": null,
      "outputs": []
    },
    {
      "cell_type": "code",
      "metadata": {
        "id": "DmmSFvWaqUYn"
      },
      "source": [
        "def train_epoch(model, opt, loader, log_melspec, device):\n",
        "    model.train()\n",
        "    for i, (batch, labels) in tqdm(enumerate(loader), total=len(loader)):\n",
        "        batch, labels = batch.to(device), labels.to(device)\n",
        "        batch = log_melspec(batch)\n",
        "\n",
        "        opt.zero_grad()\n",
        "\n",
        "        # run model # with autocast():\n",
        "        logits = model(batch)\n",
        "        # we need probabilities so we use softmax & CE separately\n",
        "        probs = F.softmax(logits, dim=-1)\n",
        "        loss = F.cross_entropy(logits, labels)\n",
        "\n",
        "        loss.backward()\n",
        "        torch.nn.utils.clip_grad_norm_(model.parameters(), 5)\n",
        "\n",
        "        opt.step()\n",
        "\n",
        "        # logging\n",
        "        argmax_probs = torch.argmax(probs, dim=-1)\n",
        "        FA, FR = count_FA_FR(argmax_probs, labels)\n",
        "        acc = torch.sum(argmax_probs == labels) / torch.numel(argmax_probs)\n",
        "\n",
        "    return acc"
      ],
      "execution_count": null,
      "outputs": []
    },
    {
      "cell_type": "code",
      "metadata": {
        "id": "UIeRbn4tqUYo"
      },
      "source": [
        "@torch.no_grad()\n",
        "def validation(model, loader, log_melspec, device):\n",
        "    model.eval()\n",
        "\n",
        "    val_losses, accs, FAs, FRs = [], [], [], []\n",
        "    all_probs, all_labels = [], []\n",
        "    for i, (batch, labels) in tqdm(enumerate(loader)):\n",
        "        batch, labels = batch.to(device), labels.to(device)\n",
        "        batch = log_melspec(batch)\n",
        "\n",
        "        output = model(batch)\n",
        "        # we need probabilities so we use softmax & CE separately\n",
        "        probs = F.softmax(output, dim=-1)\n",
        "        loss = F.cross_entropy(output, labels)\n",
        "\n",
        "        # logging\n",
        "        argmax_probs = torch.argmax(probs, dim=-1)\n",
        "        all_probs.append(probs[:, 1].cpu())\n",
        "        all_labels.append(labels.cpu())\n",
        "        val_losses.append(loss.item())\n",
        "        accs.append(\n",
        "            torch.sum(argmax_probs == labels).item() /  # ???\n",
        "            torch.numel(argmax_probs)\n",
        "        )\n",
        "        FA, FR = count_FA_FR(argmax_probs, labels)\n",
        "        FAs.append(FA)\n",
        "        FRs.append(FR)\n",
        "\n",
        "    # area under FA/FR curve for whole loader\n",
        "    au_fa_fr = get_au_fa_fr(torch.cat(all_probs, dim=0).cpu(), all_labels)\n",
        "    return au_fa_fr"
      ],
      "execution_count": null,
      "outputs": []
    },
    {
      "cell_type": "code",
      "metadata": {
        "id": "PpyvKwp0k3IU"
      },
      "source": [
        "from collections import defaultdict\n",
        "from IPython.display import clear_output\n",
        "from matplotlib import pyplot as plt\n",
        "\n",
        "history = defaultdict(list)"
      ],
      "execution_count": null,
      "outputs": []
    },
    {
      "cell_type": "markdown",
      "metadata": {
        "id": "GSNW-nZCJ4Q0"
      },
      "source": [
        "# Training"
      ]
    },
    {
      "cell_type": "code",
      "metadata": {
        "colab": {
          "base_uri": "https://localhost:8080/"
        },
        "id": "Q8sVpHNoocgA",
        "outputId": "21d8abdc-c74a-406c-a36b-3f9c3915029f"
      },
      "source": [
        "config = TaskConfig()\n",
        "model = CRNN(config).to(config.device)\n",
        "\n",
        "print(model)\n",
        "\n",
        "opt = torch.optim.Adam(\n",
        "    model.parameters(),\n",
        "    lr=config.learning_rate,\n",
        "    weight_decay=config.weight_decay\n",
        ")"
      ],
      "execution_count": null,
      "outputs": [
        {
          "output_type": "stream",
          "name": "stdout",
          "text": [
            "CRNN(\n",
            "  (conv): Sequential(\n",
            "    (0): Conv2d(1, 8, kernel_size=(5, 20), stride=(2, 8))\n",
            "    (1): Flatten(start_dim=1, end_dim=2)\n",
            "  )\n",
            "  (gru): GRU(144, 64, num_layers=2, batch_first=True, dropout=0.1)\n",
            "  (attention): Attention(\n",
            "    (energy): Sequential(\n",
            "      (0): Linear(in_features=64, out_features=64, bias=True)\n",
            "      (1): Tanh()\n",
            "      (2): Linear(in_features=64, out_features=1, bias=True)\n",
            "    )\n",
            "  )\n",
            "  (classifier): Linear(in_features=64, out_features=2, bias=True)\n",
            ")\n"
          ]
        }
      ]
    },
    {
      "cell_type": "code",
      "metadata": {
        "colab": {
          "base_uri": "https://localhost:8080/"
        },
        "id": "zedXm9dmINAE",
        "outputId": "48431867-f4fe-4f39-f27c-81f78076d936"
      },
      "source": [
        "sum([p.numel() for p in model.parameters()])"
      ],
      "execution_count": null,
      "outputs": [
        {
          "output_type": "execute_result",
          "data": {
            "text/plain": [
              "70443"
            ]
          },
          "metadata": {},
          "execution_count": 28
        }
      ]
    },
    {
      "cell_type": "code",
      "metadata": {
        "colab": {
          "base_uri": "https://localhost:8080/",
          "height": 296
        },
        "id": "32oooz4lqUYo",
        "scrolled": false,
        "outputId": "3b6fe056-2164-4a1b-da6c-b3e3fc8f06a1"
      },
      "source": [
        "# TRAIN\n",
        "\n",
        "for n in range(TaskConfig.num_epochs):\n",
        "\n",
        "    train_epoch(model, opt, train_loader,\n",
        "                melspec_train, config.device)\n",
        "\n",
        "    au_fa_fr = validation(model, val_loader,\n",
        "                          melspec_val, config.device)\n",
        "    history['val_metric'].append(au_fa_fr)\n",
        "\n",
        "    clear_output()\n",
        "    plt.plot(history['val_metric'])\n",
        "    plt.ylabel('Metric')\n",
        "    plt.xlabel('Epoch')\n",
        "    plt.grid()\n",
        "    plt.show()\n",
        "\n",
        "    print('END OF EPOCH', n)"
      ],
      "execution_count": null,
      "outputs": [
        {
          "output_type": "display_data",
          "data": {
            "image/png": "[encoded data removed]",
            "text/plain": [
              "<Figure size 432x288 with 1 Axes>"
            ]
          },
          "metadata": {
            "needs_background": "light"
          }
        },
        {
          "output_type": "stream",
          "name": "stdout",
          "text": [
            "END OF EPOCH 19\n"
          ]
        }
      ]
    },
    {
      "cell_type": "code",
      "metadata": {
        "colab": {
          "base_uri": "https://localhost:8080/"
        },
        "id": "WBkTUHZcVugz",
        "outputId": "0dc6decf-ae96-48c9-9a1d-49ae22a630e5"
      },
      "source": [
        "history"
      ],
      "execution_count": null,
      "outputs": [
        {
          "output_type": "execute_result",
          "data": {
            "text/plain": [
              "defaultdict(list,\n",
              "            {'val_metric': [0.0003579693092011677,\n",
              "              0.00020628021723663456,\n",
              "              0.00018313210016946343,\n",
              "              0.00014924239745627314,\n",
              "              0.00011707134844644596,\n",
              "              0.00010103058054839077,\n",
              "              6.230119674691078e-05,\n",
              "              6.0146912070125835e-05,\n",
              "              4.247103613484331e-05,\n",
              "              4.575915485204137e-05,\n",
              "              5.068238160646679e-05,\n",
              "              3.880696192003456e-05,\n",
              "              4.028691372015275e-05,\n",
              "              2.7766998894959377e-05,\n",
              "              2.6209468976286607e-05,\n",
              "              3.055384361534322e-05,\n",
              "              3.3752449118824465e-05,\n",
              "              2.9831770358027494e-05,\n",
              "              3.0291271521773864e-05,\n",
              "              2.8590520461154177e-05]})"
            ]
          },
          "metadata": {},
          "execution_count": 30
        }
      ]
    },
    {
      "cell_type": "code",
      "metadata": {
        "id": "wdkw0gz3sEXz"
      },
      "source": [
        "torch.save(model, \"base_crnn_model.pt\")"
      ],
      "execution_count": null,
      "outputs": []
    },
    {
      "cell_type": "markdown",
      "metadata": {
        "id": "w_eJqievlf28"
      },
      "source": [
        "# Streaming"
      ]
    },
    {
      "cell_type": "code",
      "metadata": {
        "id": "rS4VyAZ1lk9x"
      },
      "source": [
        "class StreamingAttention(Attention):\n",
        "    def __init__(self, hidden_size: int):\n",
        "        super().__init__(hidden_size)\n",
        "    \n",
        "    def forward(self, input, previous_energy=None):\n",
        "        energy = self.energy(input)\n",
        "        if previous_energy is not None:\n",
        "            energy = torch.cat((previous_energy, energy), dim=-2)\n",
        "        alpha = torch.softmax(energy, dim=-2)\n",
        "        return (input * alpha).sum(dim=-2), energy\n",
        "\n",
        "\n",
        "class StreamingCRNN(CRNN):\n",
        "    def __init__(self, *args, **kwargs):\n",
        "        super().__init__(*args, **kwargs)\n",
        "        self.attention = StreamingAttention(config.hidden_size)\n",
        "\n",
        "    def forward(self, input):\n",
        "        input = input.unsqueeze(dim=1)\n",
        "        conv_output = self.conv(input).transpose(-1, -2)\n",
        "        gru_output, _ = self.gru(conv_output)\n",
        "        context_vector, _ = self.attention(gru_output)\n",
        "        output = self.classifier(context_vector)\n",
        "        return output"
      ],
      "execution_count": null,
      "outputs": []
    },
    {
      "cell_type": "code",
      "metadata": {
        "id": "A8o5SROqQ2Ff"
      },
      "source": [
        "class Streaming(nn.Module):\n",
        "    def __init__(self, model, max_window_length):\n",
        "        super().__init__()\n",
        "        self.max_window_length = max_window_length\n",
        "        self.model = model\n",
        "        self.time_kernel_size = model.conv[0].weight.shape[-1]\n",
        "        self.time_stride_size = model.conv[0].stride[-1]\n",
        "        assert self.max_window_length >= self.time_kernel_size\n",
        "\n",
        "    def forward(self, input):\n",
        "        self.model.eval()\n",
        "        input = input.unsqueeze(dim=1)\n",
        "        curr_input = input[:, :, :, :self.max_window_length]\n",
        "        conv_output = self.model.conv(curr_input).transpose(-1, -2)\n",
        "        buf_gru_output, buf_hidden = self.model.gru(conv_output)\n",
        "        context_vector, buf_energy = self.model.attention(buf_gru_output)\n",
        "        buf_output = self.model.classifier(context_vector).unsqueeze(1)\n",
        "        for i in range(self.max_window_length, input.shape[-1]):\n",
        "            if (i - self.time_kernel_size) % self.time_stride_size != 0:\n",
        "                buf_output = torch.cat((buf_output, buf_output[:, -1:]), dim=1)\n",
        "            else:\n",
        "                buf_gru_output = buf_gru_output[:, 1:]\n",
        "                buf_energy = buf_energy[:, 1:]\n",
        "                curr_input = input[:, :, :, i - self.time_kernel_size + 1:i + 1]\n",
        "                conv_output = self.model.conv(curr_input).transpose(-1, -2)\n",
        "                gru_output, buf_hidden = self.model.gru(conv_output, buf_hidden)\n",
        "                buf_gru_output = torch.cat((buf_gru_output, gru_output), dim=1)\n",
        "                context_vector, buf_energy = self.model.attention(gru_output,\n",
        "                                                                buf_energy)\n",
        "                output = self.model.classifier(context_vector).unsqueeze(1)\n",
        "                buf_output = torch.cat((buf_output, output), dim=1)\n",
        "        return buf_output"
      ],
      "execution_count": null,
      "outputs": []
    },
    {
      "cell_type": "code",
      "metadata": {
        "id": "QihmGiRluc78"
      },
      "source": [
        "from collections import defaultdict\n",
        "from IPython.display import clear_output\n",
        "from matplotlib import pyplot as plt\n",
        "\n",
        "history = defaultdict(list)"
      ],
      "execution_count": null,
      "outputs": []
    },
    {
      "cell_type": "code",
      "metadata": {
        "colab": {
          "base_uri": "https://localhost:8080/"
        },
        "id": "SZ38BpW4Cr-G",
        "outputId": "2859ccb3-6b9c-463a-f8a7-44fa4e294531"
      },
      "source": [
        "config = TaskConfig()\n",
        "model = StreamingCRNN(config).to(config.device)\n",
        "\n",
        "print(model)\n",
        "\n",
        "opt = torch.optim.Adam(\n",
        "    model.parameters(),\n",
        "    lr=config.learning_rate,\n",
        "    weight_decay=config.weight_decay\n",
        ")"
      ],
      "execution_count": null,
      "outputs": [
        {
          "output_type": "stream",
          "name": "stdout",
          "text": [
            "StreamingCRNN(\n",
            "  (conv): Sequential(\n",
            "    (0): Conv2d(1, 8, kernel_size=(5, 20), stride=(2, 8))\n",
            "    (1): Flatten(start_dim=1, end_dim=2)\n",
            "  )\n",
            "  (gru): GRU(144, 64, num_layers=2, batch_first=True, dropout=0.1)\n",
            "  (attention): StreamingAttention(\n",
            "    (energy): Sequential(\n",
            "      (0): Linear(in_features=64, out_features=64, bias=True)\n",
            "      (1): Tanh()\n",
            "      (2): Linear(in_features=64, out_features=1, bias=True)\n",
            "    )\n",
            "  )\n",
            "  (classifier): Linear(in_features=64, out_features=2, bias=True)\n",
            ")\n"
          ]
        }
      ]
    },
    {
      "cell_type": "code",
      "metadata": {
        "colab": {
          "base_uri": "https://localhost:8080/"
        },
        "id": "Y1SxRD0JC5Hj",
        "outputId": "503a54e0-1c9e-4cff-90ae-5b73ec24150b"
      },
      "source": [
        "sum([p.numel() for p in model.parameters()])"
      ],
      "execution_count": null,
      "outputs": [
        {
          "output_type": "execute_result",
          "data": {
            "text/plain": [
              "70443"
            ]
          },
          "metadata": {},
          "execution_count": 192
        }
      ]
    },
    {
      "cell_type": "code",
      "metadata": {
        "colab": {
          "base_uri": "https://localhost:8080/",
          "height": 297
        },
        "id": "g84RNcAWC6-N",
        "outputId": "e03ab3a0-a24a-463d-8606-f94bc0173bb9"
      },
      "source": [
        "# TRAIN\n",
        "\n",
        "for n in range(TaskConfig.num_epochs):\n",
        "\n",
        "    train_epoch(model, opt, train_loader,\n",
        "                melspec_train, config.device)\n",
        "\n",
        "    au_fa_fr = validation(model, val_loader,\n",
        "                          melspec_val, config.device)\n",
        "    history['val_metric'].append(au_fa_fr)\n",
        "\n",
        "    clear_output()\n",
        "    plt.plot(history['val_metric'])\n",
        "    plt.ylabel('Metric')\n",
        "    plt.xlabel('Epoch')\n",
        "    plt.grid()\n",
        "    plt.show()\n",
        "\n",
        "    print('END OF EPOCH', n)"
      ],
      "execution_count": null,
      "outputs": [
        {
          "output_type": "display_data",
          "data": {
            "image/png": "[encoded data removed]",
            "text/plain": [
              "<Figure size 432x288 with 1 Axes>"
            ]
          },
          "metadata": {
            "needs_background": "light"
          }
        },
        {
          "output_type": "stream",
          "name": "stdout",
          "text": [
            "END OF EPOCH 19\n"
          ]
        }
      ]
    },
    {
      "cell_type": "code",
      "metadata": {
        "colab": {
          "base_uri": "https://localhost:8080/"
        },
        "id": "qAw1iKRpC925",
        "outputId": "7542c15d-d89d-49f2-fbcb-2f63c1755572"
      },
      "source": [
        "history"
      ],
      "execution_count": null,
      "outputs": [
        {
          "output_type": "execute_result",
          "data": {
            "text/plain": [
              "defaultdict(list,\n",
              "            {'val_metric': [0.0006302565702325897,\n",
              "              0.0002853919955195653,\n",
              "              0.00020363062611061656,\n",
              "              0.00014326888232757032,\n",
              "              0.00015549638732128876,\n",
              "              0.00010628202241977789,\n",
              "              8.042762252456802e-05,\n",
              "              9.022335187897933e-05,\n",
              "              8.629670557060124e-05,\n",
              "              6.948015648700022e-05,\n",
              "              5.551609514717539e-05,\n",
              "              5.2586029284844624e-05,\n",
              "              3.857422756437082e-05,\n",
              "              4.4935633285846576e-05,\n",
              "              3.8407136232099407e-05,\n",
              "              2.9187275219266346e-05,\n",
              "              2.3530040112362952e-05,\n",
              "              2.9736289596729546e-05,\n",
              "              2.727169244572627e-05,\n",
              "              3.517869299071256e-05]})"
            ]
          },
          "metadata": {},
          "execution_count": 194
        }
      ]
    },
    {
      "cell_type": "code",
      "metadata": {
        "id": "gX34ucbOC-ab"
      },
      "source": [
        "torch.save(model, \"streaming_crnn3.pt\")"
      ],
      "execution_count": null,
      "outputs": []
    },
    {
      "cell_type": "markdown",
      "metadata": {
        "id": "UXAsyWk22gn-"
      },
      "source": [
        "## Testing"
      ]
    },
    {
      "cell_type": "code",
      "metadata": {
        "colab": {
          "base_uri": "https://localhost:8080/"
        },
        "id": "d1HGQa1W2jR3",
        "outputId": "659a6079-b1d5-44ee-b9d6-1fd7fd04c62b"
      },
      "source": [
        "!wget https://zenodo.org/record/2529934/files/FSDnoisy18k.audio_test.zip"
      ],
      "execution_count": null,
      "outputs": [
        {
          "output_type": "stream",
          "name": "stdout",
          "text": [
            "--2021-11-19 08:47:40--  https://zenodo.org/record/2529934/files/FSDnoisy18k.audio_test.zip\n",
            "Resolving zenodo.org (zenodo.org)... 137.138.76.77\n",
            "Connecting to zenodo.org (zenodo.org)|137.138.76.77|:443... connected.\n",
            "HTTP request sent, awaiting response... 200 OK\n",
            "Length: 304186599 (290M) [application/octet-stream]\n",
            "Saving to: ‘FSDnoisy18k.audio_test.zip’\n",
            "\n",
            "FSDnoisy18k.audio_t 100%[===================>] 290.09M  10.1MB/s    in 31s     \n",
            "\n",
            "2021-11-19 08:48:14 (9.22 MB/s) - ‘FSDnoisy18k.audio_test.zip’ saved [304186599/304186599]\n",
            "\n"
          ]
        }
      ]
    },
    {
      "cell_type": "code",
      "metadata": {
        "id": "xm_cNi9Q2qdv"
      },
      "source": [
        "!mkdir noise && unzip -d noise FSDnoisy18k.audio_test.zip 1> log"
      ],
      "execution_count": null,
      "outputs": []
    },
    {
      "cell_type": "code",
      "metadata": {
        "id": "1beshgn9EX43"
      },
      "source": [
        "index_audio_with_keyword = val_df[val_df[\"label\"] == 1].index[0]\n",
        "index_audio_without_keyword = val_df[val_df[\"label\"] == 0].index[:10]"
      ],
      "execution_count": null,
      "outputs": []
    },
    {
      "cell_type": "code",
      "metadata": {
        "colab": {
          "base_uri": "https://localhost:8080/"
        },
        "id": "LtYgLkJlYWhG",
        "outputId": "615e24a6-15d8-4bd6-e6ea-ef8079d296c6"
      },
      "source": [
        "index_audio_with_keyword"
      ],
      "execution_count": null,
      "outputs": [
        {
          "output_type": "execute_result",
          "data": {
            "text/plain": [
              "74"
            ]
          },
          "metadata": {},
          "execution_count": 28
        }
      ]
    },
    {
      "cell_type": "code",
      "metadata": {
        "colab": {
          "base_uri": "https://localhost:8080/"
        },
        "id": "QXJkmTTuYzSJ",
        "outputId": "7f5d0e3d-f01d-491a-ba1d-1b430ebfed9e"
      },
      "source": [
        "index_audio_without_keyword"
      ],
      "execution_count": null,
      "outputs": [
        {
          "output_type": "execute_result",
          "data": {
            "text/plain": [
              "Int64Index([0, 1, 2, 3, 4, 5, 6, 7, 8, 9], dtype='int64')"
            ]
          },
          "metadata": {},
          "execution_count": 29
        }
      ]
    },
    {
      "cell_type": "code",
      "metadata": {
        "id": "ajJTXI4rqwG3",
        "colab": {
          "base_uri": "https://localhost:8080/"
        },
        "outputId": "f17aeb32-6cf2-4648-f9d7-dfe71037cdc6"
      },
      "source": [
        "background_noises_path = [\"/content/noise/FSDnoisy18k.audio_test/101383.wav\",\n",
        "                          \"/content/noise/FSDnoisy18k.audio_test/101489.wav\"]\n",
        "background_noises = [\n",
        "            torchaudio.load(p)[0].squeeze()\n",
        "            for p in background_noises_path\n",
        "        ]\n",
        "audio_with_keyword = val_set[index_audio_with_keyword]['wav']\n",
        "test_audio_hard = torch.cat((background_noises[0], audio_with_keyword,\n",
        "                        background_noises[1])).to(config.device)\n",
        "test_audio_hard.shape"
      ],
      "execution_count": null,
      "outputs": [
        {
          "output_type": "execute_result",
          "data": {
            "text/plain": [
              "torch.Size([622752])"
            ]
          },
          "metadata": {},
          "execution_count": 44
        }
      ]
    },
    {
      "cell_type": "code",
      "metadata": {
        "id": "sFpvhvfshDys",
        "colab": {
          "base_uri": "https://localhost:8080/"
        },
        "outputId": "4a4f4d3e-22d3-463a-f987-228d46c1d347"
      },
      "source": [
        "test_audio_easy_list = []\n",
        "for i in range(len(index_audio_without_keyword)):\n",
        "    test_audio_easy_list.append(val_set[index_audio_without_keyword[i]]['wav'])\n",
        "half = len(index_audio_without_keyword) // 2\n",
        "test_audio_easy = test_audio_easy_list[half:] + [audio_with_keyword]\n",
        "test_audio_easy += test_audio_easy_list[:half]\n",
        "test_audio_easy = torch.cat(test_audio_easy).to(config.device)\n",
        "test_audio_easy.shape"
      ],
      "execution_count": null,
      "outputs": [
        {
          "output_type": "execute_result",
          "data": {
            "text/plain": [
              "torch.Size([168960])"
            ]
          },
          "metadata": {},
          "execution_count": 49
        }
      ]
    },
    {
      "cell_type": "code",
      "metadata": {
        "id": "MYKoDOlw0Y53",
        "colab": {
          "base_uri": "https://localhost:8080/"
        },
        "outputId": "d686de31-ceca-420e-ff48-f152f8d1c478"
      },
      "source": [
        "import gdown\n",
        "url = \"https://drive.google.com/uc?id=1mb9y-CBHCF41_7J26VwSwwbcmah-k4RR\"\n",
        "output = \"/content/streaming_crnn3.pt\"\n",
        "gdown.download(url, output, quiet=False)\n",
        "model = torch.load(\"/content/streaming_crnn3.pt\")"
      ],
      "execution_count": null,
      "outputs": [
        {
          "output_type": "stream",
          "name": "stderr",
          "text": [
            "Downloading...\n",
            "From: https://drive.google.com/uc?id=1mb9y-CBHCF41_7J26VwSwwbcmah-k4RR\n",
            "To: /content/streaming_crnn3.pt\n",
            "100%|██████████| 288k/288k [00:00<00:00, 36.8MB/s]\n"
          ]
        }
      ]
    },
    {
      "cell_type": "code",
      "metadata": {
        "colab": {
          "base_uri": "https://localhost:8080/"
        },
        "id": "Vr0VBLCUbZjW",
        "outputId": "745b33ca-7ee5-40c4-c730-bab2455f02ab"
      },
      "source": [
        "model.eval()\n",
        "\n",
        "streaming_model = Streaming(model, 41)\n",
        "\n",
        "melspec = torchaudio.transforms.MelSpectrogram(\n",
        "                sample_rate=config.sample_rate,\n",
        "                n_fft=400,\n",
        "                win_length=400,\n",
        "                hop_length=160,\n",
        "                n_mels=config.n_mels\n",
        "            ).to(config.device)\n",
        "test_audio_melspeced = torch.log(melspec(test_audio_easy).clamp_(min=1e-9, max=1e9))\n",
        "\n",
        "output = streaming_model(test_audio_melspeced.unsqueeze(0))\n",
        "probs = F.softmax(output, dim=-1)\n",
        "test_audio_melspeced.shape"
      ],
      "execution_count": null,
      "outputs": [
        {
          "output_type": "execute_result",
          "data": {
            "text/plain": [
              "torch.Size([40, 1057])"
            ]
          },
          "metadata": {},
          "execution_count": 50
        }
      ]
    },
    {
      "cell_type": "code",
      "metadata": {
        "colab": {
          "base_uri": "https://localhost:8080/",
          "height": 286
        },
        "id": "N6xmD0PYbbLd",
        "outputId": "8d208e70-a212-497b-caf0-6bfc8fb09e33"
      },
      "source": [
        "plt.grid(True)\n",
        "plt.plot(probs[0, :, 1].cpu().detach().numpy())\n",
        "plt.ylim(0, 1)"
      ],
      "execution_count": null,
      "outputs": [
        {
          "output_type": "execute_result",
          "data": {
            "text/plain": [
              "(0.0, 1.0)"
            ]
          },
          "metadata": {},
          "execution_count": 51
        },
        {
          "output_type": "display_data",
          "data": {
            "image/png": "[encoded data removed]",
            "text/plain": [
              "<Figure size 432x288 with 1 Axes>"
            ]
          },
          "metadata": {
            "needs_background": "light"
          }
        }
      ]
    },
    {
      "cell_type": "code",
      "metadata": {
        "id": "sMxrPkcp2CyN",
        "colab": {
          "base_uri": "https://localhost:8080/"
        },
        "outputId": "03954ff6-d9db-4317-eb80-90fe0aa3866b"
      },
      "source": [
        "model.eval()\n",
        "\n",
        "streaming_model = Streaming(model, 41)\n",
        "\n",
        "melspec = torchaudio.transforms.MelSpectrogram(\n",
        "                sample_rate=config.sample_rate,\n",
        "                n_fft=400,\n",
        "                win_length=400,\n",
        "                hop_length=160,\n",
        "                n_mels=config.n_mels\n",
        "            ).to(config.device)\n",
        "test_audio_melspeced = torch.log(melspec(test_audio_hard).clamp_(min=1e-9, max=1e9))\n",
        "\n",
        "output = streaming_model(test_audio_melspeced.unsqueeze(0))\n",
        "probs = F.softmax(output, dim=-1)\n",
        "test_audio_melspeced.shape"
      ],
      "execution_count": null,
      "outputs": [
        {
          "output_type": "execute_result",
          "data": {
            "text/plain": [
              "torch.Size([40, 3893])"
            ]
          },
          "metadata": {},
          "execution_count": 52
        }
      ]
    },
    {
      "cell_type": "code",
      "metadata": {
        "colab": {
          "base_uri": "https://localhost:8080/",
          "height": 286
        },
        "id": "Nljii29O6lUY",
        "outputId": "28b31395-55a5-40d5-e367-585ad2131e54"
      },
      "source": [
        "plt.grid(True)\n",
        "plt.plot(probs[0, :, 1].cpu().detach().numpy())\n",
        "plt.ylim(0, 1)"
      ],
      "execution_count": null,
      "outputs": [
        {
          "output_type": "execute_result",
          "data": {
            "text/plain": [
              "(0.0, 1.0)"
            ]
          },
          "metadata": {},
          "execution_count": 53
        },
        {
          "output_type": "display_data",
          "data": {
            "image/png": "[encoded data removed]",
            "text/plain": [
              "<Figure size 432x288 with 1 Axes>"
            ]
          },
          "metadata": {
            "needs_background": "light"
          }
        }
      ]
    },
    {
      "cell_type": "markdown",
      "metadata": {
        "id": "A776vrXZdy7y"
      },
      "source": [
        "Первый график -- результат стриминга на склеенных данных из валидации: так как там записи короткие + модель обучалась на очень похожих данных, график довольно гладкий. Второй график -- результат стриминга на шумах из внешнего набора данных, здесь запись подлиннее и посложнее, поэтому на графике больше флуктуаций, однако модель всё ещё хорошо распознает ключевое слово посередине."
      ]
    },
    {
      "cell_type": "markdown",
      "metadata": {
        "id": "5yE_AEu-yGfK"
      },
      "source": [
        "# Speedup and compression"
      ]
    },
    {
      "cell_type": "markdown",
      "metadata": {
        "id": "w0xGU2j8YHzG"
      },
      "source": [
        "## Dark Knowledge Distillation"
      ]
    },
    {
      "cell_type": "markdown",
      "metadata": {
        "id": "X4cqaOdhc3pz"
      },
      "source": [
        "### Training"
      ]
    },
    {
      "cell_type": "code",
      "metadata": {
        "id": "cHjhP6VLYHzd"
      },
      "source": [
        "from collections import defaultdict\n",
        "from IPython.display import clear_output\n",
        "from matplotlib import pyplot as plt"
      ],
      "execution_count": null,
      "outputs": []
    },
    {
      "cell_type": "code",
      "metadata": {
        "colab": {
          "base_uri": "https://localhost:8080/"
        },
        "id": "EGhYKs8aYHzh",
        "outputId": "f74a471a-d209-4aaa-f2f2-617df58ca798"
      },
      "source": [
        "config = TaskConfig()\n",
        "config.cnn_out_channels = 4 # instead of 8\n",
        "config.kernel_size = (5, 20)\n",
        "config.stride = (2, 8)\n",
        "config.hidden_size = 20 # instead of 64\n",
        "config.gru_num_layers = 2 # instead of 2\n",
        "config.dropout = 0\n",
        "config.alpha = 0.84 # alpha is the share of distillation loss\n",
        "config.temperature = 7\n",
        "config.num_epochs = 50\n",
        "\n",
        "smaller_model = CRNN(config).to(config.device)\n",
        "smaller_model"
      ],
      "execution_count": null,
      "outputs": [
        {
          "output_type": "execute_result",
          "data": {
            "text/plain": [
              "CRNN(\n",
              "  (conv): Sequential(\n",
              "    (0): Conv2d(1, 4, kernel_size=(5, 20), stride=(2, 8))\n",
              "    (1): Flatten(start_dim=1, end_dim=2)\n",
              "  )\n",
              "  (gru): GRU(72, 20, num_layers=2, batch_first=True)\n",
              "  (attention): Attention(\n",
              "    (energy): Sequential(\n",
              "      (0): Linear(in_features=20, out_features=20, bias=True)\n",
              "      (1): Tanh()\n",
              "      (2): Linear(in_features=20, out_features=1, bias=True)\n",
              "    )\n",
              "  )\n",
              "  (classifier): Linear(in_features=20, out_features=2, bias=True)\n",
              ")"
            ]
          },
          "metadata": {},
          "execution_count": 36
        }
      ]
    },
    {
      "cell_type": "code",
      "metadata": {
        "id": "yKI2SenWYHzl"
      },
      "source": [
        "opt = torch.optim.Adam(\n",
        "    smaller_model.parameters(),\n",
        "    lr=config.learning_rate,\n",
        "    weight_decay=config.weight_decay\n",
        ")"
      ],
      "execution_count": null,
      "outputs": []
    },
    {
      "cell_type": "code",
      "metadata": {
        "colab": {
          "base_uri": "https://localhost:8080/"
        },
        "id": "xTcFooHCYHzn",
        "outputId": "1d854547-7a5b-48f3-cca7-a1ff1ab9b19e"
      },
      "source": [
        "sum([p.numel() for p in smaller_model.parameters()])"
      ],
      "execution_count": null,
      "outputs": [
        {
          "output_type": "execute_result",
          "data": {
            "text/plain": [
              "9047"
            ]
          },
          "metadata": {},
          "execution_count": 38
        }
      ]
    },
    {
      "cell_type": "code",
      "metadata": {
        "id": "0M4ZGAAlYHzp"
      },
      "source": [
        "def loss_fn_kd(outputs, labels, teacher_outputs, config):\n",
        "    alpha = config.alpha\n",
        "    T = config.temperature\n",
        "    softmax_teacher_outputs = F.log_softmax(teacher_outputs / T, dim=1)\n",
        "    KD_loss = nn.KLDivLoss(reduction='batchmean')(\n",
        "        F.log_softmax(outputs / T, dim=1), softmax_teacher_outputs) * alpha + \\\n",
        "              F.cross_entropy(outputs, labels) * (1. - alpha)\n",
        "    return KD_loss\n",
        "\n",
        "\n",
        "def train_epoch_with_distillation(model, teacher_model, opt, loader,\n",
        "                                  log_melspec, config):\n",
        "    device = config.device\n",
        "    model.train()\n",
        "    teacher_model.eval()\n",
        "    for i, (batch, labels) in tqdm(enumerate(loader), total=len(loader)):\n",
        "        batch, labels = batch.to(device), labels.to(device)\n",
        "        batch = log_melspec(batch)\n",
        "\n",
        "        opt.zero_grad()\n",
        "\n",
        "        # run model # with autocast():\n",
        "        logits = model(batch)\n",
        "        with torch.no_grad():\n",
        "            output_teacher = teacher_model(batch)\n",
        "        loss = loss_fn_kd(logits, labels, output_teacher, config)\n",
        "\n",
        "        loss.backward()\n",
        "        torch.nn.utils.clip_grad_norm_(model.parameters(), 5)\n",
        "\n",
        "        opt.step()\n",
        "\n",
        "        # logging\n",
        "        probs = F.softmax(logits, dim=-1)\n",
        "        argmax_probs = torch.argmax(probs, dim=-1)\n",
        "        FA, FR = count_FA_FR(argmax_probs, labels)\n",
        "        acc = torch.sum(argmax_probs == labels) / torch.numel(argmax_probs)\n",
        "\n",
        "    return acc"
      ],
      "execution_count": null,
      "outputs": []
    },
    {
      "cell_type": "code",
      "metadata": {
        "colab": {
          "base_uri": "https://localhost:8080/"
        },
        "id": "pC1rWM34YHzs",
        "outputId": "d618aea8-a2cc-4c2e-89c9-4814d1691081"
      },
      "source": [
        "import gdown\n",
        "\n",
        "url = \"https://drive.google.com/uc?id=1VegjNEvwCUcqkpIxiwrqgpHLFXeVK2Qo\"\n",
        "file = \"base_crnn_model.pt\"\n",
        "gdown.download(url, file, quiet=False)\n",
        "teacher_model = torch.load(file)"
      ],
      "execution_count": null,
      "outputs": [
        {
          "output_type": "stream",
          "name": "stderr",
          "text": [
            "Downloading...\n",
            "From: https://drive.google.com/uc?id=1VegjNEvwCUcqkpIxiwrqgpHLFXeVK2Qo\n",
            "To: /content/base_crnn_model.pt\n",
            "100%|██████████| 288k/288k [00:00<00:00, 51.3MB/s]\n"
          ]
        }
      ]
    },
    {
      "cell_type": "code",
      "metadata": {
        "colab": {
          "base_uri": "https://localhost:8080/",
          "height": 297
        },
        "id": "gVxZfW1lYHzv",
        "outputId": "82d288dd-f202-4716-8590-7c6f81331800"
      },
      "source": [
        "import copy\n",
        "history = defaultdict(list)\n",
        "best_model = None\n",
        "best_metric = 100\n",
        "\n",
        "for n in range(config.num_epochs):\n",
        "\n",
        "    train_epoch_with_distillation(smaller_model, teacher_model, opt,\n",
        "                                  train_loader, melspec_train, config)\n",
        "\n",
        "    au_fa_fr = validation(smaller_model, val_loader,\n",
        "                          melspec_val, config.device)\n",
        "    history['val_metric'].append(au_fa_fr)\n",
        "    if best_metric > au_fa_fr:\n",
        "        best_metric = au_fa_fr\n",
        "        best_model = copy.deepcopy(smaller_model)\n",
        "\n",
        "    clear_output()\n",
        "    plt.plot(history['val_metric'])\n",
        "    plt.ylabel('Metric')\n",
        "    plt.xlabel('Epoch')\n",
        "    plt.grid()\n",
        "    plt.show()\n",
        "\n",
        "    print('END OF EPOCH', n)"
      ],
      "execution_count": null,
      "outputs": [
        {
          "output_type": "display_data",
          "data": {
            "image/png": "[encoded data removed]",
            "text/plain": [
              "<Figure size 432x288 with 1 Axes>"
            ]
          },
          "metadata": {
            "needs_background": "light"
          }
        },
        {
          "output_type": "stream",
          "name": "stdout",
          "text": [
            "END OF EPOCH 49\n"
          ]
        }
      ]
    },
    {
      "cell_type": "code",
      "metadata": {
        "id": "dwSkbsIZYHzx",
        "colab": {
          "base_uri": "https://localhost:8080/"
        },
        "outputId": "48402f4d-7636-4231-8081-dcb2734aece0"
      },
      "source": [
        "best_metric"
      ],
      "execution_count": null,
      "outputs": [
        {
          "output_type": "execute_result",
          "data": {
            "text/plain": [
              "3.7153951240063845e-05"
            ]
          },
          "metadata": {},
          "execution_count": 42
        }
      ]
    },
    {
      "cell_type": "code",
      "metadata": {
        "id": "NxYV8vRYYHzz",
        "colab": {
          "base_uri": "https://localhost:8080/"
        },
        "outputId": "b83d3497-6bdf-48eb-909e-79634986af25"
      },
      "source": [
        "needed_metric = 5e-05 * 1.1\n",
        "needed_metric"
      ],
      "execution_count": null,
      "outputs": [
        {
          "output_type": "execute_result",
          "data": {
            "text/plain": [
              "5.500000000000001e-05"
            ]
          },
          "metadata": {},
          "execution_count": 43
        }
      ]
    },
    {
      "cell_type": "code",
      "metadata": {
        "id": "N2Dt-1M9YHz0"
      },
      "source": [
        "torch.save(best_model, \"final_distilled.pt\")"
      ],
      "execution_count": null,
      "outputs": []
    },
    {
      "cell_type": "markdown",
      "metadata": {
        "id": "KZyva_S3c-Ys"
      },
      "source": [
        "### Profiling"
      ]
    },
    {
      "cell_type": "code",
      "metadata": {
        "id": "V4MlgIRlYHz2",
        "colab": {
          "base_uri": "https://localhost:8080/",
          "height": 108
        },
        "outputId": "3b8f0f35-d2aa-4b36-ffd1-0652f22d81de"
      },
      "source": [
        "import gdown\n",
        "url = \"https://drive.google.com/uc?id=1vIk3LsheFCJ7m1zIpvhJ9IJgSivpwB4w\"\n",
        "file = \"distilled_model.pt\"\n",
        "gdown.download(url, file, quiet=False)"
      ],
      "execution_count": null,
      "outputs": [
        {
          "output_type": "stream",
          "name": "stderr",
          "text": [
            "Downloading...\n",
            "From: https://drive.google.com/uc?id=1vIk3LsheFCJ7m1zIpvhJ9IJgSivpwB4w\n",
            "To: /content/distilled_model.pt\n",
            "100%|██████████| 44.0k/44.0k [00:00<00:00, 10.1MB/s]\n"
          ]
        },
        {
          "output_type": "execute_result",
          "data": {
            "application/vnd.google.colaboratory.intrinsic+json": {
              "type": "string"
            },
            "text/plain": [
              "'distilled_model.pt'"
            ]
          },
          "metadata": {},
          "execution_count": 46
        }
      ]
    },
    {
      "cell_type": "code",
      "metadata": {
        "id": "FEV6JvLLdfHa"
      },
      "source": [
        "distilled_model = torch.load(\"distilled_model.pt\")"
      ],
      "execution_count": null,
      "outputs": []
    },
    {
      "cell_type": "code",
      "metadata": {
        "colab": {
          "base_uri": "https://localhost:8080/"
        },
        "id": "ylpii9yjdhjp",
        "outputId": "0a873251-ac37-4886-b4ba-d9f424085bc5"
      },
      "source": [
        "!pip install thop"
      ],
      "execution_count": null,
      "outputs": [
        {
          "output_type": "stream",
          "name": "stdout",
          "text": [
            "Collecting thop\n",
            "  Downloading thop-0.0.31.post2005241907-py3-none-any.whl (8.7 kB)\n",
            "Requirement already satisfied: torch>=1.0.0 in /usr/local/lib/python3.7/dist-packages (from thop) (1.9.1)\n",
            "Requirement already satisfied: typing-extensions in /usr/local/lib/python3.7/dist-packages (from torch>=1.0.0->thop) (3.10.0.2)\n",
            "Installing collected packages: thop\n",
            "Successfully installed thop-0.0.31.post2005241907\n"
          ]
        }
      ]
    },
    {
      "cell_type": "code",
      "metadata": {
        "id": "-XE_s7VfdjVE"
      },
      "source": [
        "from thop import profile\n",
        "\n",
        "def my_profile(model, loader, log_melspec, config):\n",
        "    model.eval()\n",
        "    for i, (batch, labels) in enumerate(loader):\n",
        "        batch, labels = batch.to(config.device), labels.to(config.device)\n",
        "        batch = log_melspec(batch)\n",
        "        res = profile(model, (batch, ))  # -> (6.0 MACs, 3.0 parameters)\n",
        "        break\n",
        "    return res"
      ],
      "execution_count": null,
      "outputs": []
    },
    {
      "cell_type": "code",
      "metadata": {
        "id": "0RY2QtXGdmow"
      },
      "source": [
        "import tempfile\n",
        "\n",
        "def get_size_in_megabytes(model):\n",
        "    # https://pytorch.org/tutorials/recipes/recipes/dynamic_quantization.html#look-at-model-size\n",
        "    with tempfile.TemporaryFile() as f:\n",
        "        torch.save(model.state_dict(), f)\n",
        "        size = f.tell() / 2**20\n",
        "    return size"
      ],
      "execution_count": null,
      "outputs": []
    },
    {
      "cell_type": "code",
      "metadata": {
        "id": "KnCltF3VdoAs"
      },
      "source": [
        "def compare_time_and_space(teacher_model, distilled_model, val_loader, melspec_val, config):\n",
        "    teacher_macs = my_profile(teacher_model, val_loader, melspec_val, config)\n",
        "    distilled_macs = my_profile(distilled_model, val_loader, melspec_val, config)\n",
        "    print(\"teacher_model:\", teacher_macs)\n",
        "    print(\"distilled_model:\", distilled_macs)\n",
        "    print(f\"Distilled model takes {teacher_macs[0] / distilled_macs[0]} times less time.\")\n",
        "\n",
        "    teacher_memory = get_size_in_megabytes(teacher_model)\n",
        "    distilled_memory = get_size_in_megabytes(distilled_model)\n",
        "    print(\"teacher_model:\", teacher_memory)\n",
        "    print(\"distilled_model:\", distilled_memory)\n",
        "    print(f\"Distilled model takes {teacher_memory / distilled_memory} times less space.\")"
      ],
      "execution_count": null,
      "outputs": []
    },
    {
      "cell_type": "code",
      "metadata": {
        "colab": {
          "base_uri": "https://localhost:8080/"
        },
        "id": "Zuu6cYUbdpZT",
        "outputId": "a5153606-0fb9-4964-d605-a503a101f7a0"
      },
      "source": [
        "compare_time_and_space(teacher_model, distilled_model, val_loader, melspec_val, config)"
      ],
      "execution_count": null,
      "outputs": [
        {
          "output_type": "stream",
          "name": "stdout",
          "text": [
            "[INFO] Register count_convNd() for <class 'torch.nn.modules.conv.Conv2d'>.\n",
            "\u001b[91m[WARN] Cannot find rule for <class 'torch.nn.modules.flatten.Flatten'>. Treat it as zero Macs and zero Params.\u001b[00m\n",
            "\u001b[91m[WARN] Cannot find rule for <class 'torch.nn.modules.container.Sequential'>. Treat it as zero Macs and zero Params.\u001b[00m\n",
            "[INFO] Register count_gru() for <class 'torch.nn.modules.rnn.GRU'>.\n",
            "[INFO] Register count_linear() for <class 'torch.nn.modules.linear.Linear'>.\n",
            "\u001b[91m[WARN] Cannot find rule for <class 'torch.nn.modules.activation.Tanh'>. Treat it as zero Macs and zero Params.\u001b[00m\n",
            "\u001b[91m[WARN] Cannot find rule for <class '__main__.Attention'>. Treat it as zero Macs and zero Params.\u001b[00m\n",
            "\u001b[91m[WARN] Cannot find rule for <class '__main__.CRNN'>. Treat it as zero Macs and zero Params.\u001b[00m\n",
            "[INFO] Register count_convNd() for <class 'torch.nn.modules.conv.Conv2d'>.\n",
            "\u001b[91m[WARN] Cannot find rule for <class 'torch.nn.modules.flatten.Flatten'>. Treat it as zero Macs and zero Params.\u001b[00m\n",
            "\u001b[91m[WARN] Cannot find rule for <class 'torch.nn.modules.container.Sequential'>. Treat it as zero Macs and zero Params.\u001b[00m\n",
            "[INFO] Register count_gru() for <class 'torch.nn.modules.rnn.GRU'>.\n",
            "[INFO] Register count_linear() for <class 'torch.nn.modules.linear.Linear'>.\n",
            "\u001b[91m[WARN] Cannot find rule for <class 'torch.nn.modules.activation.Tanh'>. Treat it as zero Macs and zero Params.\u001b[00m\n",
            "\u001b[91m[WARN] Cannot find rule for <class '__main__.Attention'>. Treat it as zero Macs and zero Params.\u001b[00m\n",
            "\u001b[91m[WARN] Cannot find rule for <class '__main__.CRNN'>. Treat it as zero Macs and zero Params.\u001b[00m\n",
            "teacher_model: (119527424.0, 70443.0)\n",
            "distilled_model: (22718976.0, 9047.0)\n",
            "Distilled model takes 5.261127262073783 times less time.\n",
            "teacher_model: 0.27530479431152344\n",
            "distilled_model: 0.042252540588378906\n",
            "Distilled model takes 6.5156980024827895 times less space.\n"
          ]
        },
        {
          "output_type": "stream",
          "name": "stderr",
          "text": [
            "/usr/local/lib/python3.7/dist-packages/torch/nn/modules/rnn.py:838: UserWarning: RNN module weights are not part of single contiguous chunk of memory. This means they need to be compacted at every call, possibly greatly increasing memory usage. To compact weights again call flatten_parameters(). (Triggered internally at  ../aten/src/ATen/native/cudnn/RNN.cpp:924.)\n",
            "  self.dropout, self.training, self.bidirectional, self.batch_first)\n"
          ]
        }
      ]
    },
    {
      "cell_type": "markdown",
      "metadata": {
        "id": "Egt56Bh9YMan"
      },
      "source": [
        "## DKD + Attention Distillation"
      ]
    },
    {
      "cell_type": "markdown",
      "metadata": {
        "id": "RGkH5VgLOBzN"
      },
      "source": [
        "### Training"
      ]
    },
    {
      "cell_type": "code",
      "metadata": {
        "id": "QVueVEMwYMar"
      },
      "source": [
        "class AttentionWithSize(Attention):\n",
        "    def __init__(self, input_size: int, hidden_size: int):\n",
        "        super().__init__(input_size)\n",
        "        self.energy = nn.Sequential(\n",
        "            nn.Linear(input_size, hidden_size),\n",
        "            nn.Tanh(),\n",
        "            nn.Linear(hidden_size, 1)\n",
        "        )\n",
        "    \n",
        "    def forward(self, input):\n",
        "        energy = self.energy(input)\n",
        "        alpha = torch.softmax(energy, dim=-2)\n",
        "        return (input * alpha).sum(dim=-2), alpha\n",
        "\n",
        "class CRNNWithChangableAttentionSize(CRNN):\n",
        "    def __init__(self, config: TaskConfig):\n",
        "        super().__init__(config)\n",
        "        self.attention = AttentionWithSize(config.hidden_size, config.att_hs)\n",
        "    \n",
        "    def forward(self, input):\n",
        "        input = input.unsqueeze(dim=1)\n",
        "        conv_output = self.conv(input).transpose(-1, -2)\n",
        "        gru_output, _ = self.gru(conv_output)\n",
        "        contex_vector, alpha = self.attention(gru_output)\n",
        "        output = self.classifier(contex_vector)\n",
        "        if self.training:\n",
        "            return output, alpha\n",
        "        else:\n",
        "            return output"
      ],
      "execution_count": null,
      "outputs": []
    },
    {
      "cell_type": "code",
      "metadata": {
        "colab": {
          "base_uri": "https://localhost:8080/"
        },
        "id": "DSfpK32jYMav",
        "outputId": "2df2c7c5-6b8d-4b4d-baf9-d1a03ed28b00"
      },
      "source": [
        "config = TaskConfig()\n",
        "config.cnn_out_channels = 4 # instead of 8\n",
        "config.kernel_size = (5, 20)\n",
        "config.stride = (2, 8)\n",
        "config.hidden_size = 20 # instead of 64\n",
        "config.gru_num_layers = 2\n",
        "config.dropout = 0\n",
        "config.alpha = 0.84 # alpha is the share of distillation loss\n",
        "config.temperature = 7\n",
        "config.att_hs = 15\n",
        "config.att_alpha = 0.3\n",
        "config.num_epochs = 70\n",
        "\n",
        "smaller_model = CRNNWithChangableAttentionSize(config).to(config.device)\n",
        "smaller_model"
      ],
      "execution_count": null,
      "outputs": [
        {
          "output_type": "execute_result",
          "data": {
            "text/plain": [
              "CRNNWithChangableAttentionSize(\n",
              "  (conv): Sequential(\n",
              "    (0): Conv2d(1, 4, kernel_size=(5, 20), stride=(2, 8))\n",
              "    (1): Flatten(start_dim=1, end_dim=2)\n",
              "  )\n",
              "  (gru): GRU(72, 20, num_layers=2, batch_first=True)\n",
              "  (attention): AttentionWithSize(\n",
              "    (energy): Sequential(\n",
              "      (0): Linear(in_features=20, out_features=15, bias=True)\n",
              "      (1): Tanh()\n",
              "      (2): Linear(in_features=15, out_features=1, bias=True)\n",
              "    )\n",
              "  )\n",
              "  (classifier): Linear(in_features=20, out_features=2, bias=True)\n",
              ")"
            ]
          },
          "metadata": {},
          "execution_count": 26
        }
      ]
    },
    {
      "cell_type": "code",
      "metadata": {
        "id": "qTtsgbErYMaz"
      },
      "source": [
        "opt = torch.optim.Adam(\n",
        "    smaller_model.parameters(),\n",
        "    lr=config.learning_rate,\n",
        "    weight_decay=config.weight_decay\n",
        ")"
      ],
      "execution_count": null,
      "outputs": []
    },
    {
      "cell_type": "code",
      "metadata": {
        "colab": {
          "base_uri": "https://localhost:8080/"
        },
        "id": "NPIP9m8MYMa2",
        "outputId": "36a4b395-0822-4afe-a4a0-2a93f69ca7ba"
      },
      "source": [
        "sum([p.numel() for p in smaller_model.parameters()])"
      ],
      "execution_count": null,
      "outputs": [
        {
          "output_type": "execute_result",
          "data": {
            "text/plain": [
              "8937"
            ]
          },
          "metadata": {},
          "execution_count": 28
        }
      ]
    },
    {
      "cell_type": "code",
      "metadata": {
        "id": "k-mK8FGjYMa4"
      },
      "source": [
        "def get_teacher_output_with_alphas(teacher_model, input):\n",
        "    input = input.unsqueeze(dim=1)\n",
        "    conv_output = teacher_model.conv(input).transpose(-1, -2)\n",
        "    gru_output, _ = teacher_model.gru(conv_output)\n",
        "    energy = teacher_model.attention.energy(gru_output)\n",
        "    alpha = torch.softmax(energy, dim=-2)\n",
        "    contex_vector, alpha = (gru_output * alpha).sum(dim=-2), alpha\n",
        "    output = teacher_model.classifier(contex_vector)\n",
        "    return output, alpha\n",
        "\n",
        "\n",
        "def loss_fn_att_kd(outputs, teacher_outputs, config):\n",
        "    alpha = config.att_alpha\n",
        "    KD_loss = nn.KLDivLoss()(outputs, teacher_outputs)\n",
        "    return KD_loss\n",
        "\n",
        "\n",
        "def loss_fn_kd(outputs, labels, teacher_outputs, config):\n",
        "    alpha = config.alpha\n",
        "    T = config.temperature\n",
        "    softmax_teacher_outputs = F.log_softmax(teacher_outputs / T, dim=1)\n",
        "    KD_loss = nn.KLDivLoss()(F.log_softmax(outputs / T, dim=1),\n",
        "                             softmax_teacher_outputs) * alpha + \\\n",
        "              F.cross_entropy(outputs, labels) * (1. - alpha)\n",
        "    return KD_loss\n",
        "\n",
        "\n",
        "def train_epoch_with_distillation_and_att_dist(model, teacher_model, opt, loader,\n",
        "                                  log_melspec, config):\n",
        "    device = config.device\n",
        "    model.train()\n",
        "    teacher_model.eval()\n",
        "    for i, (batch, labels) in tqdm(enumerate(loader), total=len(loader)):\n",
        "        batch, labels = batch.to(device), labels.to(device)\n",
        "        batch = log_melspec(batch)\n",
        "\n",
        "        opt.zero_grad()\n",
        "\n",
        "        # run model # with autocast():\n",
        "        logits, alphas = model(batch)\n",
        "        with torch.no_grad():\n",
        "            output_teacher, teacher_alphas = get_teacher_output_with_alphas(\n",
        "                teacher_model, batch)\n",
        "        loss = loss_fn_kd(logits, labels, output_teacher, config)\n",
        "        loss += loss_fn_att_kd(alphas, teacher_alphas, config)\n",
        "\n",
        "        loss.backward()\n",
        "        torch.nn.utils.clip_grad_norm_(model.parameters(), 5)\n",
        "\n",
        "        opt.step()\n",
        "\n",
        "        # logging\n",
        "        probs = F.softmax(logits, dim=-1)\n",
        "        argmax_probs = torch.argmax(probs, dim=-1)\n",
        "        FA, FR = count_FA_FR(argmax_probs, labels)\n",
        "        acc = torch.sum(argmax_probs == labels) / torch.numel(argmax_probs)\n",
        "\n",
        "    return acc"
      ],
      "execution_count": null,
      "outputs": []
    },
    {
      "cell_type": "code",
      "metadata": {
        "colab": {
          "base_uri": "https://localhost:8080/"
        },
        "id": "9XEmjfbPYMa9",
        "outputId": "0f697258-3e8d-4404-f7a8-84334215351c"
      },
      "source": [
        "import gdown\n",
        "\n",
        "url = \"https://drive.google.com/uc?id=1VegjNEvwCUcqkpIxiwrqgpHLFXeVK2Qo\"\n",
        "file = \"base_crnn_model.pt\"\n",
        "gdown.download(url, file, quiet=False)\n",
        "teacher_model = torch.load(file)"
      ],
      "execution_count": null,
      "outputs": [
        {
          "output_type": "stream",
          "name": "stderr",
          "text": [
            "Downloading...\n",
            "From: https://drive.google.com/uc?id=1VegjNEvwCUcqkpIxiwrqgpHLFXeVK2Qo\n",
            "To: /content/base_crnn_model.pt\n",
            "100%|██████████| 288k/288k [00:00<00:00, 54.3MB/s]\n"
          ]
        }
      ]
    },
    {
      "cell_type": "code",
      "metadata": {
        "colab": {
          "base_uri": "https://localhost:8080/",
          "height": 297
        },
        "id": "kAfLIAGIYMa_",
        "outputId": "c09dfdb0-fc79-495f-c20f-f20ab94d27dc"
      },
      "source": [
        "import copy\n",
        "history = defaultdict(list)\n",
        "best_model = None\n",
        "best_metric = 100\n",
        "\n",
        "for n in range(config.num_epochs):\n",
        "\n",
        "    train_epoch_with_distillation_and_att_dist(smaller_model, teacher_model, opt,\n",
        "                                  train_loader, melspec_train, config)\n",
        "\n",
        "    au_fa_fr = validation(smaller_model, val_loader,\n",
        "                          melspec_val, config.device)\n",
        "    history['val_metric'].append(au_fa_fr)\n",
        "    if best_metric > au_fa_fr:\n",
        "        best_metric = au_fa_fr\n",
        "        best_model = copy.deepcopy(smaller_model)\n",
        "\n",
        "    clear_output()\n",
        "    plt.plot(history['val_metric'])\n",
        "    plt.ylabel('Metric')\n",
        "    plt.xlabel('Epoch')\n",
        "    plt.grid()\n",
        "    plt.show()\n",
        "\n",
        "    print('END OF EPOCH', n)"
      ],
      "execution_count": null,
      "outputs": [
        {
          "output_type": "display_data",
          "data": {
            "image/png": "[encoded data removed]",
            "text/plain": [
              "<Figure size 432x288 with 1 Axes>"
            ]
          },
          "metadata": {
            "needs_background": "light"
          }
        },
        {
          "output_type": "stream",
          "name": "stdout",
          "text": [
            "END OF EPOCH 69\n"
          ]
        }
      ]
    },
    {
      "cell_type": "code",
      "metadata": {
        "colab": {
          "base_uri": "https://localhost:8080/"
        },
        "id": "n7iCRjANYMbB",
        "outputId": "b388a535-1752-48cb-b488-7d0811c91315"
      },
      "source": [
        "best_metric"
      ],
      "execution_count": null,
      "outputs": [
        {
          "output_type": "execute_result",
          "data": {
            "text/plain": [
              "5.1798313004136554e-05"
            ]
          },
          "metadata": {},
          "execution_count": 32
        }
      ]
    },
    {
      "cell_type": "code",
      "metadata": {
        "colab": {
          "base_uri": "https://localhost:8080/"
        },
        "id": "68XGX-bxYMbC",
        "outputId": "2d224df9-4e51-4197-a6e7-69a98aaf71ae"
      },
      "source": [
        "needed_metric = 5e-05 * 1.1\n",
        "needed_metric"
      ],
      "execution_count": null,
      "outputs": [
        {
          "output_type": "execute_result",
          "data": {
            "text/plain": [
              "5.500000000000001e-05"
            ]
          },
          "metadata": {},
          "execution_count": 33
        }
      ]
    },
    {
      "cell_type": "code",
      "metadata": {
        "id": "QwT4Pa6OYMbE"
      },
      "source": [
        "torch.save(best_model, \"distilled_att_crnn_model.pt\")"
      ],
      "execution_count": null,
      "outputs": []
    },
    {
      "cell_type": "markdown",
      "metadata": {
        "id": "k31vXRPNsa7W"
      },
      "source": [
        "### Profiling"
      ]
    },
    {
      "cell_type": "code",
      "metadata": {
        "colab": {
          "base_uri": "https://localhost:8080/",
          "height": 108
        },
        "id": "xzQHqYtPtdJj",
        "outputId": "5c288faf-45cc-4cc0-df14-e517b9e3269d"
      },
      "source": [
        "import gdown\n",
        "url = \"https://drive.google.com/uc?id=1FUNijUOrmQQdd1nVsYRFqJ_tVwasXT_l\"\n",
        "file = \"att_distilled_model.pt\"\n",
        "gdown.download(url, file, quiet=False)"
      ],
      "execution_count": null,
      "outputs": [
        {
          "output_type": "stream",
          "name": "stderr",
          "text": [
            "Downloading...\n",
            "From: https://drive.google.com/uc?id=1FUNijUOrmQQdd1nVsYRFqJ_tVwasXT_l\n",
            "To: /content/att_distilled_model.pt\n",
            "100%|██████████| 43.3k/43.3k [00:00<00:00, 10.9MB/s]\n"
          ]
        },
        {
          "output_type": "execute_result",
          "data": {
            "application/vnd.google.colaboratory.intrinsic+json": {
              "type": "string"
            },
            "text/plain": [
              "'att_distilled_model.pt'"
            ]
          },
          "metadata": {},
          "execution_count": 35
        }
      ]
    },
    {
      "cell_type": "code",
      "metadata": {
        "id": "sq3rsCYqtWab"
      },
      "source": [
        "att_distilled_model = torch.load(\"att_distilled_model.pt\")"
      ],
      "execution_count": null,
      "outputs": []
    },
    {
      "cell_type": "code",
      "metadata": {
        "colab": {
          "base_uri": "https://localhost:8080/"
        },
        "id": "_b30UqmNtlUf",
        "outputId": "c70b4040-8671-4788-f28f-7e3c1cfe375f"
      },
      "source": [
        "compare_time_and_space(teacher_model, att_distilled_model, val_loader, melspec_val, config)"
      ],
      "execution_count": null,
      "outputs": [
        {
          "output_type": "stream",
          "name": "stdout",
          "text": [
            "[INFO] Register count_convNd() for <class 'torch.nn.modules.conv.Conv2d'>.\n",
            "\u001b[91m[WARN] Cannot find rule for <class 'torch.nn.modules.flatten.Flatten'>. Treat it as zero Macs and zero Params.\u001b[00m\n",
            "\u001b[91m[WARN] Cannot find rule for <class 'torch.nn.modules.container.Sequential'>. Treat it as zero Macs and zero Params.\u001b[00m\n",
            "[INFO] Register count_gru() for <class 'torch.nn.modules.rnn.GRU'>.\n",
            "[INFO] Register count_linear() for <class 'torch.nn.modules.linear.Linear'>.\n",
            "\u001b[91m[WARN] Cannot find rule for <class 'torch.nn.modules.activation.Tanh'>. Treat it as zero Macs and zero Params.\u001b[00m\n",
            "\u001b[91m[WARN] Cannot find rule for <class '__main__.Attention'>. Treat it as zero Macs and zero Params.\u001b[00m\n",
            "\u001b[91m[WARN] Cannot find rule for <class '__main__.CRNN'>. Treat it as zero Macs and zero Params.\u001b[00m\n",
            "[INFO] Register count_convNd() for <class 'torch.nn.modules.conv.Conv2d'>.\n",
            "\u001b[91m[WARN] Cannot find rule for <class 'torch.nn.modules.flatten.Flatten'>. Treat it as zero Macs and zero Params.\u001b[00m\n",
            "\u001b[91m[WARN] Cannot find rule for <class 'torch.nn.modules.container.Sequential'>. Treat it as zero Macs and zero Params.\u001b[00m\n",
            "[INFO] Register count_gru() for <class 'torch.nn.modules.rnn.GRU'>.\n",
            "[INFO] Register count_linear() for <class 'torch.nn.modules.linear.Linear'>.\n",
            "\u001b[91m[WARN] Cannot find rule for <class 'torch.nn.modules.activation.Tanh'>. Treat it as zero Macs and zero Params.\u001b[00m\n",
            "\u001b[91m[WARN] Cannot find rule for <class '__main__.AttentionWithSize'>. Treat it as zero Macs and zero Params.\u001b[00m\n",
            "\u001b[91m[WARN] Cannot find rule for <class '__main__.CRNNWithChangableAttentionSize'>. Treat it as zero Macs and zero Params.\u001b[00m\n",
            "teacher_model: (119527424.0, 70443.0)\n",
            "distilled_model: (22571136.0, 8937.0)\n",
            "Distilled model takes 5.295587426348413 times less time.\n",
            "teacher_model: 0.27530479431152344\n",
            "distilled_model: 0.041703224182128906\n",
            "Distilled model takes 6.601523016762331 times less space.\n"
          ]
        },
        {
          "output_type": "stream",
          "name": "stderr",
          "text": [
            "/usr/local/lib/python3.7/dist-packages/torch/nn/modules/rnn.py:838: UserWarning: RNN module weights are not part of single contiguous chunk of memory. This means they need to be compacted at every call, possibly greatly increasing memory usage. To compact weights again call flatten_parameters(). (Triggered internally at  ../aten/src/ATen/native/cudnn/RNN.cpp:924.)\n",
            "  self.dropout, self.training, self.bidirectional, self.batch_first)\n"
          ]
        }
      ]
    },
    {
      "cell_type": "markdown",
      "metadata": {
        "id": "FwsV9VfYwb-w"
      },
      "source": [
        "## Dynamic quantization\n"
      ]
    },
    {
      "cell_type": "code",
      "metadata": {
        "colab": {
          "base_uri": "https://localhost:8080/",
          "height": 104
        },
        "id": "Gr8DZZ_AxZ_H",
        "outputId": "d098532b-8191-4b12-fb7c-96f0b265f135"
      },
      "source": [
        "import gdown\n",
        "url = \"https://drive.google.com/uc?id=1FUNijUOrmQQdd1nVsYRFqJ_tVwasXT_l\"\n",
        "file = \"att_distilled_model.pt\"\n",
        "gdown.download(url, file, quiet=False)"
      ],
      "execution_count": null,
      "outputs": [
        {
          "output_type": "stream",
          "name": "stderr",
          "text": [
            "Downloading...\n",
            "From: https://drive.google.com/uc?id=1FUNijUOrmQQdd1nVsYRFqJ_tVwasXT_l\n",
            "To: /content/att_distilled_model.pt\n",
            "100%|██████████| 43.3k/43.3k [00:00<00:00, 11.0MB/s]\n"
          ]
        },
        {
          "output_type": "execute_result",
          "data": {
            "application/vnd.google.colaboratory.intrinsic+json": {
              "type": "string"
            },
            "text/plain": [
              "'att_distilled_model.pt'"
            ]
          },
          "metadata": {},
          "execution_count": 25
        }
      ]
    },
    {
      "cell_type": "code",
      "metadata": {
        "id": "AXo6HlY30D-x"
      },
      "source": [
        "att_distilled_model = torch.load(\"att_distilled_model.pt\").to(\"cpu\")"
      ],
      "execution_count": null,
      "outputs": []
    },
    {
      "cell_type": "code",
      "metadata": {
        "id": "NB_T9ol55OWS"
      },
      "source": [
        "model_int8 = torch.quantization.quantize_dynamic(\n",
        "    att_distilled_model,  # the original model\n",
        "    {torch.nn.Linear, torch.nn.GRU},  # a set of layers to dynamically quantize\n",
        "    dtype=torch.qint8)  # the target dtype for quantized weights"
      ],
      "execution_count": null,
      "outputs": []
    },
    {
      "cell_type": "code",
      "metadata": {
        "id": "9B6AXxcnTmeu"
      },
      "source": [
        "cpu_config = TaskConfig()\n",
        "cpu_config.device = \"cpu\"\n",
        "melspec_val_cpu = LogMelspec(is_train=False, config=cpu_config)"
      ],
      "execution_count": null,
      "outputs": []
    },
    {
      "cell_type": "code",
      "metadata": {
        "colab": {
          "base_uri": "https://localhost:8080/"
        },
        "id": "-HIaM8nVtrOh",
        "outputId": "224efba7-528b-4bf3-cb76-506bdd8ca4b6"
      },
      "source": [
        "import gdown\n",
        "\n",
        "url = \"https://drive.google.com/uc?id=1VegjNEvwCUcqkpIxiwrqgpHLFXeVK2Qo\"\n",
        "file = \"base_crnn_model.pt\"\n",
        "gdown.download(url, file, quiet=False)\n",
        "teacher_model = torch.load(file).to(\"cpu\")"
      ],
      "execution_count": null,
      "outputs": [
        {
          "output_type": "stream",
          "name": "stderr",
          "text": [
            "Downloading...\n",
            "From: https://drive.google.com/uc?id=1VegjNEvwCUcqkpIxiwrqgpHLFXeVK2Qo\n",
            "To: /content/base_crnn_model.pt\n",
            "100%|██████████| 288k/288k [00:00<00:00, 39.5MB/s]\n"
          ]
        }
      ]
    },
    {
      "cell_type": "code",
      "metadata": {
        "colab": {
          "base_uri": "https://localhost:8080/"
        },
        "id": "kmMSWtX_0RCl",
        "outputId": "73411e96-2b82-464b-b916-754590224671"
      },
      "source": [
        "teacher_memory = get_size_in_megabytes(teacher_model)\n",
        "distilled_memory = get_size_in_megabytes(model_int8)\n",
        "print(\"teacher_model:\", teacher_memory)\n",
        "print(\"quantized_model:\", distilled_memory)\n",
        "print(f\"Quantized model takes {teacher_memory / distilled_memory} times less space.\")"
      ],
      "execution_count": null,
      "outputs": [
        {
          "output_type": "stream",
          "name": "stdout",
          "text": [
            "teacher_model: 0.27299976348876953\n",
            "quantized_model: 0.01712322235107422\n",
            "Quantized model takes 15.943247006404901 times less space.\n"
          ]
        }
      ]
    },
    {
      "cell_type": "code",
      "metadata": {
        "colab": {
          "base_uri": "https://localhost:8080/"
        },
        "id": "7aD1rdmd5iZ9",
        "outputId": "9bba9171-e09f-48c0-cf57-81545fd6de75"
      },
      "source": [
        "validation(model_int8, val_loader, melspec_val_cpu, \"cpu\")"
      ],
      "execution_count": null,
      "outputs": [
        {
          "output_type": "stream",
          "name": "stderr",
          "text": [
            "102it [00:12,  8.13it/s]\n"
          ]
        },
        {
          "output_type": "execute_result",
          "data": {
            "text/plain": [
              "5.1977339431570206e-05"
            ]
          },
          "metadata": {},
          "execution_count": 36
        }
      ]
    },
    {
      "cell_type": "code",
      "metadata": {
        "colab": {
          "base_uri": "https://localhost:8080/"
        },
        "id": "1kB87UWT5j-G",
        "outputId": "0683fe38-4f50-4c96-8fce-1075508e9cc2"
      },
      "source": [
        "needed_metric = 5e-05 * 1.1\n",
        "needed_metric"
      ],
      "execution_count": null,
      "outputs": [
        {
          "output_type": "execute_result",
          "data": {
            "text/plain": [
              "5.500000000000001e-05"
            ]
          },
          "metadata": {},
          "execution_count": 37
        }
      ]
    },
    {
      "cell_type": "code",
      "metadata": {
        "id": "22flvGGC5l03"
      },
      "source": [
        "torch.save(model_int8, \"quantized_crnn_model.pt\")"
      ],
      "execution_count": null,
      "outputs": []
    }
  ]
}